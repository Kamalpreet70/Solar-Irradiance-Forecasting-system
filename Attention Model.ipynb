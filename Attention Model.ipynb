{
  "nbformat": 4,
  "nbformat_minor": 0,
  "metadata": {
    "colab": {
      "provenance": []
    },
    "kernelspec": {
      "name": "python3",
      "display_name": "Python 3"
    },
    "language_info": {
      "name": "python"
    }
  },
  "cells": [
    {
      "cell_type": "code",
      "execution_count": null,
      "metadata": {
        "id": "29RuLa9Wm51h"
      },
      "outputs": [],
      "source": [
        "import pandas as pd\n",
        "import numpy as np\n",
        "from sklearn.model_selection import train_test_split\n",
        "from tensorflow.keras.layers import Input, Conv1D, MaxPooling1D, LSTM, Dense, Flatten, Activation, RepeatVector, Permute, Multiply, Lambda\n",
        "from tensorflow.keras.models import Model\n",
        "from tensorflow.keras import backend as K"
      ]
    },
    {
      "cell_type": "code",
      "source": [
        "# Define paths to CSV files\n",
        "csv_file_paths = [\n",
        "    'cold_season_NITJ_data.csv',\n",
        "    'monsoon_season_NITJ_data.csv',\n",
        "    'post_monsoon_NITJ_data.csv',\n",
        "    'summer_season_NITJ_data.csv'\n",
        "]\n",
        "\n",
        "# Load and combine data from multiple CSV files\n",
        "dfs = []\n",
        "for path in csv_file_paths:\n",
        "    df = pd.read_csv(path, parse_dates=['Date'], index_col='Date')\n",
        "    dfs.append(df)\n",
        "\n",
        "data = pd.concat(dfs)\n",
        "\n",
        "# Define input features (X) and target variable (y)\n",
        "X = data[['Clearsky GHI', 'Temperature', 'Pressure', 'Relative Humidity',\n",
        "          'Solar Zenith Angle', 'Wind Speed', 'Wind Direction',\n",
        "          'Dew Point', 'Precipitable Water', 'Clearness Index']]\n",
        "y = data['GHI']"
      ],
      "metadata": {
        "id": "f1T3kow6nPYT"
      },
      "execution_count": null,
      "outputs": []
    },
    {
      "cell_type": "code",
      "source": [
        "X_train, X_temp, y_train, y_temp = train_test_split(X, y, test_size=0.3, random_state=42)\n",
        "X_val, X_test, y_val, y_test = train_test_split(X_temp, y_temp, test_size=0.33, random_state=42)\n",
        "X_train = np.expand_dims(X_train, axis=-1)\n",
        "X_val = np.expand_dims(X_val, axis=-1)\n",
        "X_test = np.expand_dims(X_test, axis=-1)"
      ],
      "metadata": {
        "id": "n2JZBao8nRQi"
      },
      "execution_count": null,
      "outputs": []
    },
    {
      "cell_type": "code",
      "source": [
        "def build_model(learning_rate, dropout_rate, lstm_units):\n",
        "    inputs = Input(shape=(X_train.shape[1], 1))\n",
        "\n",
        "    # Convolutional Layer\n",
        "    conv = Conv1D(filters=64, kernel_size=3, activation='relu')(inputs)\n",
        "    pool = MaxPooling1D(pool_size=2)(conv)\n",
        "\n",
        "    # LSTM Layer\n",
        "    lstm = LSTM(lstm_units, return_sequences=True)(pool)\n",
        "\n",
        "    # Attention Mechanism\n",
        "    attention = Dense(1, activation='tanh')(lstm)\n",
        "    attention = Flatten()(attention)\n",
        "    attention = Activation('softmax')(attention)\n",
        "    attention = RepeatVector(lstm_units)(attention)\n",
        "    attention = Permute([2, 1])(attention)\n",
        "    sent_representation = Multiply()([lstm, attention])\n",
        "    sent_representation = Lambda(lambda xin: K.sum(xin, axis=-2), output_shape=(lstm_units,))(sent_representation)\n",
        "\n",
        "    # Fully Connected Layer\n",
        "    outputs = Dense(1)(sent_representation)\n",
        "\n",
        "    model = Model(inputs=inputs, outputs=outputs)\n",
        "    model.compile(optimizer='adam', loss='mse', metrics=['mae'])\n",
        "    return model"
      ],
      "metadata": {
        "id": "j1opbjItnb_8"
      },
      "execution_count": null,
      "outputs": []
    },
    {
      "cell_type": "code",
      "source": [
        "# Build the model\n",
        "model = build_model(learning_rate=0.001, dropout_rate=0.2, lstm_units=64)\n",
        "\n",
        "# Train the model\n",
        "model.fit(X_train, y_train, epochs=50, validation_data=(X_val, y_val))"
      ],
      "metadata": {
        "colab": {
          "base_uri": "https://localhost:8080/"
        },
        "id": "-dPu4RlGnh9i",
        "outputId": "cca394a8-4da6-4200-dfe0-992321abbeca"
      },
      "execution_count": null,
      "outputs": [
        {
          "output_type": "stream",
          "name": "stdout",
          "text": [
            "Epoch 1/50\n",
            "1405/1405 [==============================] - 9s 5ms/step - loss: 211394.2500 - mae: 375.4690 - val_loss: 182280.8125 - val_mae: 343.6620\n",
            "Epoch 2/50\n",
            "1405/1405 [==============================] - 6s 4ms/step - loss: 156666.9062 - mae: 316.3763 - val_loss: 136589.8906 - val_mae: 295.2159\n",
            "Epoch 3/50\n",
            "1405/1405 [==============================] - 6s 5ms/step - loss: 118456.7656 - mae: 276.0827 - val_loss: 104933.4219 - val_mae: 263.4168\n",
            "Epoch 4/50\n",
            "1405/1405 [==============================] - 5s 4ms/step - loss: 92580.4219 - mae: 248.6922 - val_loss: 82747.0781 - val_mae: 236.8301\n",
            "Epoch 5/50\n",
            "1405/1405 [==============================] - 6s 4ms/step - loss: 73809.4609 - mae: 225.0630 - val_loss: 67350.2812 - val_mae: 217.7256\n",
            "Epoch 6/50\n",
            "1405/1405 [==============================] - 5s 4ms/step - loss: 50402.3359 - mae: 174.6998 - val_loss: 38654.4453 - val_mae: 142.2658\n",
            "Epoch 7/50\n",
            "1405/1405 [==============================] - 6s 4ms/step - loss: 31955.9609 - mae: 128.2541 - val_loss: 27058.5996 - val_mae: 115.5168\n",
            "Epoch 8/50\n",
            "1405/1405 [==============================] - 6s 4ms/step - loss: 21115.2520 - mae: 99.2147 - val_loss: 15352.1162 - val_mae: 79.9951\n",
            "Epoch 9/50\n",
            "1405/1405 [==============================] - 6s 4ms/step - loss: 11389.4131 - mae: 66.6996 - val_loss: 8344.3291 - val_mae: 56.2951\n",
            "Epoch 10/50\n",
            "1405/1405 [==============================] - 6s 4ms/step - loss: 6316.9526 - mae: 47.6243 - val_loss: 4599.1313 - val_mae: 40.3355\n",
            "Epoch 11/50\n",
            "1405/1405 [==============================] - 6s 4ms/step - loss: 3476.9978 - mae: 34.7434 - val_loss: 2385.4802 - val_mae: 27.9335\n",
            "Epoch 12/50\n",
            "1405/1405 [==============================] - 6s 4ms/step - loss: 1865.9335 - mae: 25.3959 - val_loss: 1503.9283 - val_mae: 24.2872\n",
            "Epoch 13/50\n",
            "1405/1405 [==============================] - 6s 4ms/step - loss: 1055.6925 - mae: 19.9369 - val_loss: 765.0508 - val_mae: 17.8125\n",
            "Epoch 14/50\n",
            "1405/1405 [==============================] - 6s 4ms/step - loss: 642.5576 - mae: 16.1951 - val_loss: 488.5547 - val_mae: 14.5683\n",
            "Epoch 15/50\n",
            "1405/1405 [==============================] - 6s 4ms/step - loss: 444.3960 - mae: 14.0309 - val_loss: 521.5889 - val_mae: 15.8222\n",
            "Epoch 16/50\n",
            "1405/1405 [==============================] - 6s 4ms/step - loss: 327.4565 - mae: 12.2863 - val_loss: 249.7670 - val_mae: 10.5150\n",
            "Epoch 17/50\n",
            "1405/1405 [==============================] - 6s 4ms/step - loss: 262.5640 - mae: 11.2252 - val_loss: 278.8406 - val_mae: 11.8760\n",
            "Epoch 18/50\n",
            "1405/1405 [==============================] - 6s 4ms/step - loss: 230.6745 - mae: 10.4487 - val_loss: 212.1779 - val_mae: 10.5105\n",
            "Epoch 19/50\n",
            "1405/1405 [==============================] - 6s 4ms/step - loss: 188.0078 - mae: 9.5887 - val_loss: 171.5145 - val_mae: 9.2346\n",
            "Epoch 20/50\n",
            "1405/1405 [==============================] - 6s 4ms/step - loss: 165.5584 - mae: 9.1419 - val_loss: 132.5503 - val_mae: 7.9793\n",
            "Epoch 21/50\n",
            "1405/1405 [==============================] - 6s 4ms/step - loss: 151.2606 - mae: 8.7148 - val_loss: 106.4788 - val_mae: 7.1653\n",
            "Epoch 22/50\n",
            "1405/1405 [==============================] - 6s 4ms/step - loss: 148.8932 - mae: 8.6794 - val_loss: 129.1544 - val_mae: 8.3211\n",
            "Epoch 23/50\n",
            "1405/1405 [==============================] - 6s 4ms/step - loss: 121.7893 - mae: 7.9384 - val_loss: 148.4028 - val_mae: 9.1087\n",
            "Epoch 24/50\n",
            "1405/1405 [==============================] - 6s 4ms/step - loss: 108.4220 - mae: 7.4472 - val_loss: 103.4139 - val_mae: 7.1074\n",
            "Epoch 25/50\n",
            "1405/1405 [==============================] - 6s 4ms/step - loss: 98.2703 - mae: 7.1275 - val_loss: 85.7781 - val_mae: 6.6785\n",
            "Epoch 26/50\n",
            "1405/1405 [==============================] - 6s 4ms/step - loss: 98.8964 - mae: 7.1523 - val_loss: 79.1370 - val_mae: 6.3204\n",
            "Epoch 27/50\n",
            "1405/1405 [==============================] - 6s 4ms/step - loss: 91.0841 - mae: 6.8466 - val_loss: 99.7578 - val_mae: 7.2949\n",
            "Epoch 28/50\n",
            "1405/1405 [==============================] - 5s 4ms/step - loss: 83.1243 - mae: 6.5424 - val_loss: 75.2812 - val_mae: 6.1080\n",
            "Epoch 29/50\n",
            "1405/1405 [==============================] - 6s 4ms/step - loss: 78.9714 - mae: 6.3943 - val_loss: 68.3392 - val_mae: 6.0446\n",
            "Epoch 30/50\n",
            "1405/1405 [==============================] - 6s 4ms/step - loss: 79.9648 - mae: 6.4477 - val_loss: 100.4997 - val_mae: 7.5498\n",
            "Epoch 31/50\n",
            "1405/1405 [==============================] - 6s 4ms/step - loss: 71.1085 - mae: 6.0927 - val_loss: 61.7512 - val_mae: 5.7621\n",
            "Epoch 32/50\n",
            "1405/1405 [==============================] - 6s 4ms/step - loss: 60.5327 - mae: 5.6355 - val_loss: 71.6172 - val_mae: 6.2980\n",
            "Epoch 33/50\n",
            "1405/1405 [==============================] - 6s 4ms/step - loss: 61.9088 - mae: 5.7005 - val_loss: 87.6139 - val_mae: 7.2055\n",
            "Epoch 34/50\n",
            "1405/1405 [==============================] - 5s 4ms/step - loss: 58.6602 - mae: 5.5202 - val_loss: 49.2099 - val_mae: 5.1661\n",
            "Epoch 35/50\n",
            "1405/1405 [==============================] - 6s 4ms/step - loss: 57.5978 - mae: 5.4824 - val_loss: 44.6564 - val_mae: 4.7583\n",
            "Epoch 36/50\n",
            "1405/1405 [==============================] - 6s 4ms/step - loss: 50.1269 - mae: 5.1767 - val_loss: 35.6480 - val_mae: 4.2584\n",
            "Epoch 37/50\n",
            "1405/1405 [==============================] - 6s 4ms/step - loss: 60.9513 - mae: 5.5548 - val_loss: 90.0012 - val_mae: 7.4862\n",
            "Epoch 38/50\n",
            "1405/1405 [==============================] - 5s 4ms/step - loss: 44.5446 - mae: 4.9197 - val_loss: 56.7628 - val_mae: 5.4825\n",
            "Epoch 39/50\n",
            "1405/1405 [==============================] - 6s 4ms/step - loss: 43.4613 - mae: 4.8867 - val_loss: 39.8037 - val_mae: 4.6133\n",
            "Epoch 40/50\n",
            "1405/1405 [==============================] - 6s 4ms/step - loss: 45.3881 - mae: 4.9616 - val_loss: 60.1803 - val_mae: 5.7933\n",
            "Epoch 41/50\n",
            "1405/1405 [==============================] - 6s 4ms/step - loss: 42.8364 - mae: 4.7993 - val_loss: 55.1366 - val_mae: 5.2382\n",
            "Epoch 42/50\n",
            "1405/1405 [==============================] - 5s 4ms/step - loss: 41.7820 - mae: 4.7256 - val_loss: 60.4279 - val_mae: 5.8365\n",
            "Epoch 43/50\n",
            "1405/1405 [==============================] - 6s 4ms/step - loss: 40.6342 - mae: 4.7255 - val_loss: 27.7711 - val_mae: 3.7990\n",
            "Epoch 44/50\n",
            "1405/1405 [==============================] - 6s 4ms/step - loss: 39.2510 - mae: 4.6324 - val_loss: 36.3731 - val_mae: 4.2888\n",
            "Epoch 45/50\n",
            "1405/1405 [==============================] - 6s 4ms/step - loss: 39.4222 - mae: 4.5864 - val_loss: 28.9524 - val_mae: 3.8872\n",
            "Epoch 46/50\n",
            "1405/1405 [==============================] - 6s 4ms/step - loss: 34.8522 - mae: 4.3916 - val_loss: 31.0265 - val_mae: 4.0557\n",
            "Epoch 47/50\n",
            "1405/1405 [==============================] - 6s 4ms/step - loss: 34.3826 - mae: 4.3257 - val_loss: 63.0942 - val_mae: 5.7896\n",
            "Epoch 48/50\n",
            "1405/1405 [==============================] - 6s 4ms/step - loss: 32.8260 - mae: 4.2539 - val_loss: 29.6617 - val_mae: 3.9858\n",
            "Epoch 49/50\n",
            "1405/1405 [==============================] - 6s 4ms/step - loss: 31.5886 - mae: 4.2064 - val_loss: 31.4501 - val_mae: 3.9225\n",
            "Epoch 50/50\n",
            "1405/1405 [==============================] - 6s 4ms/step - loss: 32.3136 - mae: 4.1530 - val_loss: 51.6792 - val_mae: 5.3355\n"
          ]
        },
        {
          "output_type": "execute_result",
          "data": {
            "text/plain": [
              "<keras.src.callbacks.History at 0x7da6a8c0af80>"
            ]
          },
          "metadata": {},
          "execution_count": 5
        }
      ]
    },
    {
      "cell_type": "code",
      "source": [
        "from sklearn.metrics import mean_squared_error, mean_absolute_error\n",
        "import math"
      ],
      "metadata": {
        "id": "uo24xWp2n3NH"
      },
      "execution_count": null,
      "outputs": []
    },
    {
      "cell_type": "code",
      "source": [
        "# Load and preprocess data from file5.csv\n",
        "file5 = pd.read_csv('cold_season_NITJ_data.csv')\n",
        "X_file5 = file5.drop(columns=['GHI', 'Date', 'Season'])\n",
        "y_file5_observed = file5['GHI']\n",
        "\n",
        "X_file5 = X_file5.astype(np.float32)\n",
        "X_file5 = np.expand_dims(X_file5, axis=-1)  # Ensure correct input shape\n",
        "\n",
        "# Use tmodel to predict GHI values for file5.csv\n",
        "y_file5_predicted = model.predict(X_file5)\n",
        "\n",
        "# evaluation metrics\n",
        "rmse = math.sqrt(mean_squared_error(y_file5_observed, y_file5_predicted))\n",
        "mae = mean_absolute_error(y_file5_observed, y_file5_predicted)\n",
        "mse = mean_squared_error(y_file5_observed, y_file5_predicted)\n",
        "\n",
        "# evaluation metrics\n",
        "print(\"RMSE:\", rmse)\n",
        "print(\"MAE:\", mae)\n",
        "print(\"MSE:\", mse)\n"
      ],
      "metadata": {
        "id": "tg44S2jtoSJ0",
        "colab": {
          "base_uri": "https://localhost:8080/"
        },
        "outputId": "611e0f39-5674-49a4-cf08-6f4ed47719ce"
      },
      "execution_count": null,
      "outputs": [
        {
          "output_type": "stream",
          "name": "stdout",
          "text": [
            "740/740 [==============================] - 1s 2ms/step\n",
            "RMSE: 5.737094032928357\n",
            "MAE: 4.046536737797307\n",
            "MSE: 32.91424794266216\n"
          ]
        }
      ]
    }
  ]
}