{
  "nbformat": 4,
  "nbformat_minor": 0,
  "metadata": {
    "colab": {
      "provenance": []
    },
    "kernelspec": {
      "name": "python3",
      "display_name": "Python 3"
    },
    "language_info": {
      "name": "python"
    }
  },
  "cells": [
    {
      "cell_type": "code",
      "execution_count": null,
      "metadata": {
        "colab": {
          "base_uri": "https://localhost:8080/"
        },
        "id": "EA-is6fZt00S",
        "outputId": "009c0eef-80e0-45f5-ad15-17b71811d3af"
      },
      "outputs": [
        {
          "output_type": "stream",
          "name": "stdout",
          "text": [
            "Requirement already satisfied: scikit-optimize in /usr/local/lib/python3.10/dist-packages (0.10.1)\n",
            "Requirement already satisfied: joblib>=0.11 in /usr/local/lib/python3.10/dist-packages (from scikit-optimize) (1.3.2)\n",
            "Requirement already satisfied: pyaml>=16.9 in /usr/local/lib/python3.10/dist-packages (from scikit-optimize) (24.4.0)\n",
            "Requirement already satisfied: numpy>=1.20.3 in /usr/local/lib/python3.10/dist-packages (from scikit-optimize) (1.25.2)\n",
            "Requirement already satisfied: scipy>=1.1.0 in /usr/local/lib/python3.10/dist-packages (from scikit-optimize) (1.11.4)\n",
            "Requirement already satisfied: scikit-learn>=1.0.0 in /usr/local/lib/python3.10/dist-packages (from scikit-optimize) (1.2.2)\n",
            "Requirement already satisfied: packaging>=21.3 in /usr/local/lib/python3.10/dist-packages (from scikit-optimize) (24.0)\n",
            "Requirement already satisfied: PyYAML in /usr/local/lib/python3.10/dist-packages (from pyaml>=16.9->scikit-optimize) (6.0.1)\n",
            "Requirement already satisfied: threadpoolctl>=2.0.0 in /usr/local/lib/python3.10/dist-packages (from scikit-learn>=1.0.0->scikit-optimize) (3.4.0)\n"
          ]
        }
      ],
      "source": [
        "pip install scikit-optimize"
      ]
    },
    {
      "cell_type": "code",
      "source": [
        "import pandas as pd\n",
        "import numpy as np\n",
        "from sklearn.model_selection import train_test_split\n",
        "from tensorflow.keras.layers import Input, Conv1D, MaxPooling1D, LSTM, Dense, Flatten, Activation, RepeatVector, Permute, Multiply, Lambda, Dropout\n",
        "from tensorflow.keras.models import Model\n",
        "from tensorflow.keras.optimizers import Adam\n",
        "from tensorflow.keras.callbacks import EarlyStopping\n",
        "from sklearn.metrics import mean_squared_error, mean_absolute_error, r2_score\n",
        "from sklearn.base import BaseEstimator, RegressorMixin\n",
        "from skopt import BayesSearchCV\n",
        "from tensorflow.keras import backend as K\n",
        "import matplotlib.pyplot as plt\n",
        "\n"
      ],
      "metadata": {
        "id": "ZASI2RndusoU"
      },
      "execution_count": null,
      "outputs": []
    },
    {
      "cell_type": "code",
      "source": [
        "# Load and combine data from multiple CSV files\n",
        "csv_file_paths = [\n",
        "    'cold_season_NITJ_data.csv',\n",
        "    'monsoon_season_NITJ_data.csv',\n",
        "    'post_monsoon_NITJ_data.csv',\n",
        "    'summer_season_NITJ_data.csv'\n",
        "]\n",
        "\n",
        "dfs = [pd.read_csv(path, parse_dates=['Date'], index_col='Date') for path in csv_file_paths]\n",
        "data = pd.concat(dfs)\n",
        "data.head()"
      ],
      "metadata": {
        "colab": {
          "base_uri": "https://localhost:8080/",
          "height": 465
        },
        "id": "Gxh8rmBP6slW",
        "outputId": "5880f4c3-b470-4aeb-c12d-83035f817857"
      },
      "execution_count": null,
      "outputs": [
        {
          "output_type": "execute_result",
          "data": {
            "text/plain": [
              "                     GHI  Clearsky GHI  Temperature  Pressure  \\\n",
              "Date                                                            \n",
              "2000-01-01 08:00:00  118           134           14       990   \n",
              "2000-01-01 09:00:00  262           311           18       990   \n",
              "2000-01-01 10:00:00  375           460           22       990   \n",
              "2000-01-01 11:00:00  524           557           25       990   \n",
              "2000-01-01 12:00:00  584           592           26       990   \n",
              "\n",
              "                     Relative Humidity  Solar Zenith Angle  Wind Speed  \\\n",
              "Date                                                                     \n",
              "2000-01-01 08:00:00              18.48               79.26         0.5   \n",
              "2000-01-01 09:00:00               8.87               69.54         0.4   \n",
              "2000-01-01 10:00:00               6.73               61.63         0.8   \n",
              "2000-01-01 11:00:00               5.81               56.33         1.4   \n",
              "2000-01-01 12:00:00               5.58               54.40         1.6   \n",
              "\n",
              "                     Wind Direction  Dew Point  Precipitable Water  \\\n",
              "Date                                                                 \n",
              "2000-01-01 08:00:00            22.7         -9               0.515   \n",
              "2000-01-01 09:00:00           351.4        -15               0.514   \n",
              "2000-01-01 10:00:00           300.1        -15               0.514   \n",
              "2000-01-01 11:00:00           293.9        -15               0.515   \n",
              "2000-01-01 12:00:00           292.8        -15               0.516   \n",
              "\n",
              "                     Clearness Index       Season  \n",
              "Date                                               \n",
              "2000-01-01 08:00:00         0.880597  Cold Season  \n",
              "2000-01-01 09:00:00         0.842444  Cold Season  \n",
              "2000-01-01 10:00:00         0.815217  Cold Season  \n",
              "2000-01-01 11:00:00         0.940754  Cold Season  \n",
              "2000-01-01 12:00:00         0.986486  Cold Season  "
            ],
            "text/html": [
              "\n",
              "  <div id=\"df-823f67e3-7289-480a-95a8-c52179a8a121\" class=\"colab-df-container\">\n",
              "    <div>\n",
              "<style scoped>\n",
              "    .dataframe tbody tr th:only-of-type {\n",
              "        vertical-align: middle;\n",
              "    }\n",
              "\n",
              "    .dataframe tbody tr th {\n",
              "        vertical-align: top;\n",
              "    }\n",
              "\n",
              "    .dataframe thead th {\n",
              "        text-align: right;\n",
              "    }\n",
              "</style>\n",
              "<table border=\"1\" class=\"dataframe\">\n",
              "  <thead>\n",
              "    <tr style=\"text-align: right;\">\n",
              "      <th></th>\n",
              "      <th>GHI</th>\n",
              "      <th>Clearsky GHI</th>\n",
              "      <th>Temperature</th>\n",
              "      <th>Pressure</th>\n",
              "      <th>Relative Humidity</th>\n",
              "      <th>Solar Zenith Angle</th>\n",
              "      <th>Wind Speed</th>\n",
              "      <th>Wind Direction</th>\n",
              "      <th>Dew Point</th>\n",
              "      <th>Precipitable Water</th>\n",
              "      <th>Clearness Index</th>\n",
              "      <th>Season</th>\n",
              "    </tr>\n",
              "    <tr>\n",
              "      <th>Date</th>\n",
              "      <th></th>\n",
              "      <th></th>\n",
              "      <th></th>\n",
              "      <th></th>\n",
              "      <th></th>\n",
              "      <th></th>\n",
              "      <th></th>\n",
              "      <th></th>\n",
              "      <th></th>\n",
              "      <th></th>\n",
              "      <th></th>\n",
              "      <th></th>\n",
              "    </tr>\n",
              "  </thead>\n",
              "  <tbody>\n",
              "    <tr>\n",
              "      <th>2000-01-01 08:00:00</th>\n",
              "      <td>118</td>\n",
              "      <td>134</td>\n",
              "      <td>14</td>\n",
              "      <td>990</td>\n",
              "      <td>18.48</td>\n",
              "      <td>79.26</td>\n",
              "      <td>0.5</td>\n",
              "      <td>22.7</td>\n",
              "      <td>-9</td>\n",
              "      <td>0.515</td>\n",
              "      <td>0.880597</td>\n",
              "      <td>Cold Season</td>\n",
              "    </tr>\n",
              "    <tr>\n",
              "      <th>2000-01-01 09:00:00</th>\n",
              "      <td>262</td>\n",
              "      <td>311</td>\n",
              "      <td>18</td>\n",
              "      <td>990</td>\n",
              "      <td>8.87</td>\n",
              "      <td>69.54</td>\n",
              "      <td>0.4</td>\n",
              "      <td>351.4</td>\n",
              "      <td>-15</td>\n",
              "      <td>0.514</td>\n",
              "      <td>0.842444</td>\n",
              "      <td>Cold Season</td>\n",
              "    </tr>\n",
              "    <tr>\n",
              "      <th>2000-01-01 10:00:00</th>\n",
              "      <td>375</td>\n",
              "      <td>460</td>\n",
              "      <td>22</td>\n",
              "      <td>990</td>\n",
              "      <td>6.73</td>\n",
              "      <td>61.63</td>\n",
              "      <td>0.8</td>\n",
              "      <td>300.1</td>\n",
              "      <td>-15</td>\n",
              "      <td>0.514</td>\n",
              "      <td>0.815217</td>\n",
              "      <td>Cold Season</td>\n",
              "    </tr>\n",
              "    <tr>\n",
              "      <th>2000-01-01 11:00:00</th>\n",
              "      <td>524</td>\n",
              "      <td>557</td>\n",
              "      <td>25</td>\n",
              "      <td>990</td>\n",
              "      <td>5.81</td>\n",
              "      <td>56.33</td>\n",
              "      <td>1.4</td>\n",
              "      <td>293.9</td>\n",
              "      <td>-15</td>\n",
              "      <td>0.515</td>\n",
              "      <td>0.940754</td>\n",
              "      <td>Cold Season</td>\n",
              "    </tr>\n",
              "    <tr>\n",
              "      <th>2000-01-01 12:00:00</th>\n",
              "      <td>584</td>\n",
              "      <td>592</td>\n",
              "      <td>26</td>\n",
              "      <td>990</td>\n",
              "      <td>5.58</td>\n",
              "      <td>54.40</td>\n",
              "      <td>1.6</td>\n",
              "      <td>292.8</td>\n",
              "      <td>-15</td>\n",
              "      <td>0.516</td>\n",
              "      <td>0.986486</td>\n",
              "      <td>Cold Season</td>\n",
              "    </tr>\n",
              "  </tbody>\n",
              "</table>\n",
              "</div>\n",
              "    <div class=\"colab-df-buttons\">\n",
              "\n",
              "  <div class=\"colab-df-container\">\n",
              "    <button class=\"colab-df-convert\" onclick=\"convertToInteractive('df-823f67e3-7289-480a-95a8-c52179a8a121')\"\n",
              "            title=\"Convert this dataframe to an interactive table.\"\n",
              "            style=\"display:none;\">\n",
              "\n",
              "  <svg xmlns=\"http://www.w3.org/2000/svg\" height=\"24px\" viewBox=\"0 -960 960 960\">\n",
              "    <path d=\"M120-120v-720h720v720H120Zm60-500h600v-160H180v160Zm220 220h160v-160H400v160Zm0 220h160v-160H400v160ZM180-400h160v-160H180v160Zm440 0h160v-160H620v160ZM180-180h160v-160H180v160Zm440 0h160v-160H620v160Z\"/>\n",
              "  </svg>\n",
              "    </button>\n",
              "\n",
              "  <style>\n",
              "    .colab-df-container {\n",
              "      display:flex;\n",
              "      gap: 12px;\n",
              "    }\n",
              "\n",
              "    .colab-df-convert {\n",
              "      background-color: #E8F0FE;\n",
              "      border: none;\n",
              "      border-radius: 50%;\n",
              "      cursor: pointer;\n",
              "      display: none;\n",
              "      fill: #1967D2;\n",
              "      height: 32px;\n",
              "      padding: 0 0 0 0;\n",
              "      width: 32px;\n",
              "    }\n",
              "\n",
              "    .colab-df-convert:hover {\n",
              "      background-color: #E2EBFA;\n",
              "      box-shadow: 0px 1px 2px rgba(60, 64, 67, 0.3), 0px 1px 3px 1px rgba(60, 64, 67, 0.15);\n",
              "      fill: #174EA6;\n",
              "    }\n",
              "\n",
              "    .colab-df-buttons div {\n",
              "      margin-bottom: 4px;\n",
              "    }\n",
              "\n",
              "    [theme=dark] .colab-df-convert {\n",
              "      background-color: #3B4455;\n",
              "      fill: #D2E3FC;\n",
              "    }\n",
              "\n",
              "    [theme=dark] .colab-df-convert:hover {\n",
              "      background-color: #434B5C;\n",
              "      box-shadow: 0px 1px 3px 1px rgba(0, 0, 0, 0.15);\n",
              "      filter: drop-shadow(0px 1px 2px rgba(0, 0, 0, 0.3));\n",
              "      fill: #FFFFFF;\n",
              "    }\n",
              "  </style>\n",
              "\n",
              "    <script>\n",
              "      const buttonEl =\n",
              "        document.querySelector('#df-823f67e3-7289-480a-95a8-c52179a8a121 button.colab-df-convert');\n",
              "      buttonEl.style.display =\n",
              "        google.colab.kernel.accessAllowed ? 'block' : 'none';\n",
              "\n",
              "      async function convertToInteractive(key) {\n",
              "        const element = document.querySelector('#df-823f67e3-7289-480a-95a8-c52179a8a121');\n",
              "        const dataTable =\n",
              "          await google.colab.kernel.invokeFunction('convertToInteractive',\n",
              "                                                    [key], {});\n",
              "        if (!dataTable) return;\n",
              "\n",
              "        const docLinkHtml = 'Like what you see? Visit the ' +\n",
              "          '<a target=\"_blank\" href=https://colab.research.google.com/notebooks/data_table.ipynb>data table notebook</a>'\n",
              "          + ' to learn more about interactive tables.';\n",
              "        element.innerHTML = '';\n",
              "        dataTable['output_type'] = 'display_data';\n",
              "        await google.colab.output.renderOutput(dataTable, element);\n",
              "        const docLink = document.createElement('div');\n",
              "        docLink.innerHTML = docLinkHtml;\n",
              "        element.appendChild(docLink);\n",
              "      }\n",
              "    </script>\n",
              "  </div>\n",
              "\n",
              "\n",
              "<div id=\"df-fd2b3cc9-02b1-451a-8884-86acaa1cf218\">\n",
              "  <button class=\"colab-df-quickchart\" onclick=\"quickchart('df-fd2b3cc9-02b1-451a-8884-86acaa1cf218')\"\n",
              "            title=\"Suggest charts\"\n",
              "            style=\"display:none;\">\n",
              "\n",
              "<svg xmlns=\"http://www.w3.org/2000/svg\" height=\"24px\"viewBox=\"0 0 24 24\"\n",
              "     width=\"24px\">\n",
              "    <g>\n",
              "        <path d=\"M19 3H5c-1.1 0-2 .9-2 2v14c0 1.1.9 2 2 2h14c1.1 0 2-.9 2-2V5c0-1.1-.9-2-2-2zM9 17H7v-7h2v7zm4 0h-2V7h2v10zm4 0h-2v-4h2v4z\"/>\n",
              "    </g>\n",
              "</svg>\n",
              "  </button>\n",
              "\n",
              "<style>\n",
              "  .colab-df-quickchart {\n",
              "      --bg-color: #E8F0FE;\n",
              "      --fill-color: #1967D2;\n",
              "      --hover-bg-color: #E2EBFA;\n",
              "      --hover-fill-color: #174EA6;\n",
              "      --disabled-fill-color: #AAA;\n",
              "      --disabled-bg-color: #DDD;\n",
              "  }\n",
              "\n",
              "  [theme=dark] .colab-df-quickchart {\n",
              "      --bg-color: #3B4455;\n",
              "      --fill-color: #D2E3FC;\n",
              "      --hover-bg-color: #434B5C;\n",
              "      --hover-fill-color: #FFFFFF;\n",
              "      --disabled-bg-color: #3B4455;\n",
              "      --disabled-fill-color: #666;\n",
              "  }\n",
              "\n",
              "  .colab-df-quickchart {\n",
              "    background-color: var(--bg-color);\n",
              "    border: none;\n",
              "    border-radius: 50%;\n",
              "    cursor: pointer;\n",
              "    display: none;\n",
              "    fill: var(--fill-color);\n",
              "    height: 32px;\n",
              "    padding: 0;\n",
              "    width: 32px;\n",
              "  }\n",
              "\n",
              "  .colab-df-quickchart:hover {\n",
              "    background-color: var(--hover-bg-color);\n",
              "    box-shadow: 0 1px 2px rgba(60, 64, 67, 0.3), 0 1px 3px 1px rgba(60, 64, 67, 0.15);\n",
              "    fill: var(--button-hover-fill-color);\n",
              "  }\n",
              "\n",
              "  .colab-df-quickchart-complete:disabled,\n",
              "  .colab-df-quickchart-complete:disabled:hover {\n",
              "    background-color: var(--disabled-bg-color);\n",
              "    fill: var(--disabled-fill-color);\n",
              "    box-shadow: none;\n",
              "  }\n",
              "\n",
              "  .colab-df-spinner {\n",
              "    border: 2px solid var(--fill-color);\n",
              "    border-color: transparent;\n",
              "    border-bottom-color: var(--fill-color);\n",
              "    animation:\n",
              "      spin 1s steps(1) infinite;\n",
              "  }\n",
              "\n",
              "  @keyframes spin {\n",
              "    0% {\n",
              "      border-color: transparent;\n",
              "      border-bottom-color: var(--fill-color);\n",
              "      border-left-color: var(--fill-color);\n",
              "    }\n",
              "    20% {\n",
              "      border-color: transparent;\n",
              "      border-left-color: var(--fill-color);\n",
              "      border-top-color: var(--fill-color);\n",
              "    }\n",
              "    30% {\n",
              "      border-color: transparent;\n",
              "      border-left-color: var(--fill-color);\n",
              "      border-top-color: var(--fill-color);\n",
              "      border-right-color: var(--fill-color);\n",
              "    }\n",
              "    40% {\n",
              "      border-color: transparent;\n",
              "      border-right-color: var(--fill-color);\n",
              "      border-top-color: var(--fill-color);\n",
              "    }\n",
              "    60% {\n",
              "      border-color: transparent;\n",
              "      border-right-color: var(--fill-color);\n",
              "    }\n",
              "    80% {\n",
              "      border-color: transparent;\n",
              "      border-right-color: var(--fill-color);\n",
              "      border-bottom-color: var(--fill-color);\n",
              "    }\n",
              "    90% {\n",
              "      border-color: transparent;\n",
              "      border-bottom-color: var(--fill-color);\n",
              "    }\n",
              "  }\n",
              "</style>\n",
              "\n",
              "  <script>\n",
              "    async function quickchart(key) {\n",
              "      const quickchartButtonEl =\n",
              "        document.querySelector('#' + key + ' button');\n",
              "      quickchartButtonEl.disabled = true;  // To prevent multiple clicks.\n",
              "      quickchartButtonEl.classList.add('colab-df-spinner');\n",
              "      try {\n",
              "        const charts = await google.colab.kernel.invokeFunction(\n",
              "            'suggestCharts', [key], {});\n",
              "      } catch (error) {\n",
              "        console.error('Error during call to suggestCharts:', error);\n",
              "      }\n",
              "      quickchartButtonEl.classList.remove('colab-df-spinner');\n",
              "      quickchartButtonEl.classList.add('colab-df-quickchart-complete');\n",
              "    }\n",
              "    (() => {\n",
              "      let quickchartButtonEl =\n",
              "        document.querySelector('#df-fd2b3cc9-02b1-451a-8884-86acaa1cf218 button');\n",
              "      quickchartButtonEl.style.display =\n",
              "        google.colab.kernel.accessAllowed ? 'block' : 'none';\n",
              "    })();\n",
              "  </script>\n",
              "</div>\n",
              "    </div>\n",
              "  </div>\n"
            ],
            "application/vnd.google.colaboratory.intrinsic+json": {
              "type": "dataframe",
              "variable_name": "data",
              "summary": "{\n  \"name\": \"data\",\n  \"rows\": 64194,\n  \"fields\": [\n    {\n      \"column\": \"Date\",\n      \"properties\": {\n        \"dtype\": \"date\",\n        \"min\": \"2000-01-01 08:00:00\",\n        \"max\": \"2014-12-31 16:00:00\",\n        \"num_unique_values\": 59604,\n        \"samples\": [\n          \"2013-11-23 10:00:00\",\n          \"2010-02-02 08:00:00\",\n          \"2006-03-15 12:00:00\"\n        ],\n        \"semantic_type\": \"\",\n        \"description\": \"\"\n      }\n    },\n    {\n      \"column\": \"GHI\",\n      \"properties\": {\n        \"dtype\": \"number\",\n        \"std\": 273,\n        \"min\": 1,\n        \"max\": 989,\n        \"num_unique_values\": 981,\n        \"samples\": [\n          759,\n          840,\n          548\n        ],\n        \"semantic_type\": \"\",\n        \"description\": \"\"\n      }\n    },\n    {\n      \"column\": \"Clearsky GHI\",\n      \"properties\": {\n        \"dtype\": \"number\",\n        \"std\": 275,\n        \"min\": 1,\n        \"max\": 1000,\n        \"num_unique_values\": 991,\n        \"samples\": [\n          233,\n          96,\n          597\n        ],\n        \"semantic_type\": \"\",\n        \"description\": \"\"\n      }\n    },\n    {\n      \"column\": \"Temperature\",\n      \"properties\": {\n        \"dtype\": \"number\",\n        \"std\": 8,\n        \"min\": 5,\n        \"max\": 53,\n        \"num_unique_values\": 49,\n        \"samples\": [\n          13,\n          50,\n          52\n        ],\n        \"semantic_type\": \"\",\n        \"description\": \"\"\n      }\n    },\n    {\n      \"column\": \"Pressure\",\n      \"properties\": {\n        \"dtype\": \"number\",\n        \"std\": 7,\n        \"min\": 960,\n        \"max\": 1000,\n        \"num_unique_values\": 5,\n        \"samples\": [\n          980,\n          960,\n          970\n        ],\n        \"semantic_type\": \"\",\n        \"description\": \"\"\n      }\n    },\n    {\n      \"column\": \"Relative Humidity\",\n      \"properties\": {\n        \"dtype\": \"number\",\n        \"std\": 22.51196803546431,\n        \"min\": 0.09,\n        \"max\": 100.0,\n        \"num_unique_values\": 8933,\n        \"samples\": [\n          8.54,\n          16.6,\n          3.89\n        ],\n        \"semantic_type\": \"\",\n        \"description\": \"\"\n      }\n    },\n    {\n      \"column\": \"Solar Zenith Angle\",\n      \"properties\": {\n        \"dtype\": \"number\",\n        \"std\": 20.327948948932054,\n        \"min\": 7.91,\n        \"max\": 89.74,\n        \"num_unique_values\": 7987,\n        \"samples\": [\n          67.17,\n          64.88,\n          74.28\n        ],\n        \"semantic_type\": \"\",\n        \"description\": \"\"\n      }\n    },\n    {\n      \"column\": \"Wind Speed\",\n      \"properties\": {\n        \"dtype\": \"number\",\n        \"std\": 0.925320738847396,\n        \"min\": 0.0,\n        \"max\": 9.7,\n        \"num_unique_values\": 78,\n        \"samples\": [\n          5.7,\n          0.5,\n          5.8\n        ],\n        \"semantic_type\": \"\",\n        \"description\": \"\"\n      }\n    },\n    {\n      \"column\": \"Wind Direction\",\n      \"properties\": {\n        \"dtype\": \"number\",\n        \"std\": 77.36034621778875,\n        \"min\": 0.0,\n        \"max\": 360.0,\n        \"num_unique_values\": 3571,\n        \"samples\": [\n          329.6,\n          208.6,\n          315.5\n        ],\n        \"semantic_type\": \"\",\n        \"description\": \"\"\n      }\n    },\n    {\n      \"column\": \"Dew Point\",\n      \"properties\": {\n        \"dtype\": \"number\",\n        \"std\": 12,\n        \"min\": -56,\n        \"max\": 29,\n        \"num_unique_values\": 79,\n        \"samples\": [\n          -21,\n          -9,\n          9\n        ],\n        \"semantic_type\": \"\",\n        \"description\": \"\"\n      }\n    },\n    {\n      \"column\": \"Precipitable Water\",\n      \"properties\": {\n        \"dtype\": \"number\",\n        \"std\": 1.8062939414002015,\n        \"min\": 0.085,\n        \"max\": 7.859,\n        \"num_unique_values\": 6878,\n        \"samples\": [\n          5.594,\n          4.135,\n          5.398\n        ],\n        \"semantic_type\": \"\",\n        \"description\": \"\"\n      }\n    },\n    {\n      \"column\": \"Clearness Index\",\n      \"properties\": {\n        \"dtype\": \"number\",\n        \"std\": 0.22740364352904938,\n        \"min\": 0.111111111,\n        \"max\": 1.0,\n        \"num_unique_values\": 25696,\n        \"samples\": [\n          0.7593361,\n          0.964417178,\n          0.826617827\n        ],\n        \"semantic_type\": \"\",\n        \"description\": \"\"\n      }\n    },\n    {\n      \"column\": \"Season\",\n      \"properties\": {\n        \"dtype\": \"category\",\n        \"num_unique_values\": 4,\n        \"samples\": [\n          \"South-West Monsoon Season\",\n          \"Summer Season\",\n          \"Cold Season\"\n        ],\n        \"semantic_type\": \"\",\n        \"description\": \"\"\n      }\n    }\n  ]\n}"
            }
          },
          "metadata": {},
          "execution_count": 8
        }
      ]
    },
    {
      "cell_type": "code",
      "source": [
        "# Define input features (X) and target variable (y)\n",
        "X = data[['Clearsky GHI', 'Temperature', 'Pressure', 'Relative Humidity',\n",
        "          'Solar Zenith Angle', 'Wind Speed', 'Wind Direction',\n",
        "          'Dew Point', 'Precipitable Water', 'Clearness Index']]\n",
        "y = data['GHI']\n"
      ],
      "metadata": {
        "id": "UW93_DMf9HYm"
      },
      "execution_count": null,
      "outputs": []
    },
    {
      "cell_type": "markdown",
      "source": [
        "gice window size and for making predictions"
      ],
      "metadata": {
        "id": "aOAL9MhFE3Na"
      }
    },
    {
      "cell_type": "markdown",
      "source": [
        "Give code for minmax scaler"
      ],
      "metadata": {
        "id": "oYcfvriTEMIU"
      }
    },
    {
      "cell_type": "code",
      "source": [
        "# Train-test split for the first model\n",
        "X_train, X_test, y_train, y_test = train_test_split(X, y, test_size=0.3, random_state=42)\n",
        "X_test, X_val, y_test, y_val = train_test_split(X_test, y_test, test_size=2/3, random_state=42)\n",
        "X_train = np.expand_dims(X_train, axis=-1)\n",
        "X_val = np.expand_dims(X_val, axis=-1)\n",
        "X_test = np.expand_dims(X_test, axis=-1)\n"
      ],
      "metadata": {
        "id": "cFVDQPCp9LBw"
      },
      "execution_count": null,
      "outputs": []
    },
    {
      "cell_type": "markdown",
      "source": [
        "Add code for reshapping the input variables"
      ],
      "metadata": {
        "id": "REXhmE6NB4NV"
      }
    },
    {
      "cell_type": "code",
      "source": [],
      "metadata": {
        "id": "AHiwzbwGCjjC"
      },
      "execution_count": null,
      "outputs": []
    },
    {
      "cell_type": "markdown",
      "source": [
        "Give the code Defining the classs for attention model"
      ],
      "metadata": {
        "id": "EbfkX_MLB-Zw"
      }
    },
    {
      "cell_type": "markdown",
      "source": [],
      "metadata": {
        "id": "7yuqzrflCiV6"
      }
    },
    {
      "cell_type": "code",
      "source": [
        "# Define the attention model\n",
        "def build_model(learning_rate, lstm_units):\n",
        "    inputs = Input(shape=(X_train.shape[1], 1))\n",
        "    conv = Conv1D(filters=64, kernel_size=3, activation='relu')(inputs)\n",
        "    pool = MaxPooling1D(pool_size=2)(conv)\n",
        "    lstm = LSTM(lstm_units, return_sequences=True)(pool)\n",
        "    attention = Dense(1, activation='tanh')(lstm)\n",
        "    attention = Flatten()(attention)\n",
        "    attention = Activation('softmax')(attention)\n",
        "    attention = RepeatVector(lstm_units)(attention)\n",
        "    attention = Permute([2, 1])(attention)\n",
        "    sent_representation = Multiply()([lstm, attention])\n",
        "    sent_representation = Lambda(lambda xin: K.sum(xin, axis=-2), output_shape=(lstm_units,))(sent_representation)\n",
        "    outputs = Dense(1)(sent_representation)\n",
        "    model = Model(inputs=inputs, outputs=outputs)\n",
        "    model.compile(optimizer=Adam(learning_rate=learning_rate), loss='mse', metrics=['mae'])\n",
        "    return model\n"
      ],
      "metadata": {
        "id": "6eLMuCR_9OpB"
      },
      "execution_count": null,
      "outputs": []
    },
    {
      "cell_type": "markdown",
      "source": [
        "define the param space\n",
        "the give the code for bayesian optimization"
      ],
      "metadata": {
        "id": "x8AfaH8KDC6A"
      }
    },
    {
      "cell_type": "markdown",
      "source": [],
      "metadata": {
        "id": "zp-08Fe2DOaU"
      }
    },
    {
      "cell_type": "code",
      "source": [
        "# Train the initial model with early stopping\n",
        "model = build_model(learning_rate=0.001, lstm_units=64, filters=64)\n",
        "early_stop = EarlyStopping(monitor='val_loss', patience=5, verbose=1, restore_best_weights=True)\n",
        "model.fit(X_train, y_train, epochs=1, validation_data=(X_val, y_val), callbacks=[early_stop], verbose=1)\n"
      ],
      "metadata": {
        "colab": {
          "base_uri": "https://localhost:8080/"
        },
        "id": "ZnL06nYw9UoA",
        "outputId": "f42b0e60-944c-4bb1-dbe5-9b168b6962ed"
      },
      "execution_count": null,
      "outputs": [
        {
          "output_type": "stream",
          "name": "stdout",
          "text": [
            "Epoch 1/50\n",
            "1405/1405 [==============================] - 16s 9ms/step - loss: 210299.3438 - mae: 374.2261 - val_loss: 182021.1250 - val_mae: 343.8634\n",
            "Epoch 2/50\n",
            "1405/1405 [==============================] - 13s 9ms/step - loss: 155532.2656 - mae: 314.9175 - val_loss: 136298.7812 - val_mae: 295.0695\n",
            "Epoch 3/50\n",
            "1405/1405 [==============================] - 13s 9ms/step - loss: 117433.6250 - mae: 274.2988 - val_loss: 103829.2734 - val_mae: 260.2697\n",
            "Epoch 4/50\n",
            "1405/1405 [==============================] - 14s 10ms/step - loss: 89025.2812 - mae: 239.5787 - val_loss: 77317.4219 - val_mae: 222.8641\n",
            "Epoch 5/50\n",
            "1405/1405 [==============================] - 13s 9ms/step - loss: 61670.5352 - mae: 187.1910 - val_loss: 50631.4883 - val_mae: 162.5909\n",
            "Epoch 6/50\n",
            "1405/1405 [==============================] - 12s 8ms/step - loss: 42153.3750 - mae: 146.7676 - val_loss: 36210.0547 - val_mae: 135.1209\n",
            "Epoch 7/50\n",
            "1405/1405 [==============================] - 11s 8ms/step - loss: 30250.2559 - mae: 122.9234 - val_loss: 26174.6992 - val_mae: 111.8150\n",
            "Epoch 8/50\n",
            "1405/1405 [==============================] - 12s 9ms/step - loss: 20999.2871 - mae: 98.8875 - val_loss: 16999.8281 - val_mae: 86.8366\n",
            "Epoch 9/50\n",
            "1405/1405 [==============================] - 12s 9ms/step - loss: 13834.4883 - mae: 75.8362 - val_loss: 11363.6191 - val_mae: 68.1965\n",
            "Epoch 10/50\n",
            "1405/1405 [==============================] - 13s 9ms/step - loss: 9382.7412 - mae: 59.4356 - val_loss: 7730.8154 - val_mae: 54.1771\n",
            "Epoch 11/50\n",
            "1405/1405 [==============================] - 13s 9ms/step - loss: 6176.7114 - mae: 46.6762 - val_loss: 4828.5059 - val_mae: 42.1509\n",
            "Epoch 12/50\n",
            "1405/1405 [==============================] - 10s 7ms/step - loss: 3426.0232 - mae: 33.7166 - val_loss: 2315.2961 - val_mae: 27.1507\n",
            "Epoch 13/50\n",
            "1405/1405 [==============================] - 12s 9ms/step - loss: 1790.0657 - mae: 23.9722 - val_loss: 1397.3708 - val_mae: 20.5546\n",
            "Epoch 14/50\n",
            "1405/1405 [==============================] - 13s 9ms/step - loss: 1104.6406 - mae: 19.0157 - val_loss: 823.4934 - val_mae: 16.5756\n",
            "Epoch 15/50\n",
            "1405/1405 [==============================] - 12s 9ms/step - loss: 642.3642 - mae: 14.8485 - val_loss: 480.1075 - val_mae: 13.2709\n",
            "Epoch 16/50\n",
            "1405/1405 [==============================] - 12s 9ms/step - loss: 338.1777 - mae: 11.4507 - val_loss: 250.1395 - val_mae: 9.9096\n",
            "Epoch 17/50\n",
            "1405/1405 [==============================] - 11s 8ms/step - loss: 206.6961 - mae: 9.1513 - val_loss: 173.3685 - val_mae: 8.4976\n",
            "Epoch 18/50\n",
            "1405/1405 [==============================] - 11s 8ms/step - loss: 152.9017 - mae: 8.0695 - val_loss: 142.5541 - val_mae: 7.6056\n",
            "Epoch 19/50\n",
            "1405/1405 [==============================] - 14s 10ms/step - loss: 114.6882 - mae: 7.0575 - val_loss: 104.0648 - val_mae: 7.1017\n",
            "Epoch 20/50\n",
            "1405/1405 [==============================] - 12s 9ms/step - loss: 100.0449 - mae: 6.7061 - val_loss: 223.9225 - val_mae: 11.6322\n",
            "Epoch 21/50\n",
            "1405/1405 [==============================] - 13s 9ms/step - loss: 80.2257 - mae: 6.1012 - val_loss: 71.6701 - val_mae: 5.8367\n",
            "Epoch 22/50\n",
            "1405/1405 [==============================] - 13s 9ms/step - loss: 65.2282 - mae: 5.5870 - val_loss: 56.8494 - val_mae: 5.3138\n",
            "Epoch 23/50\n",
            "1405/1405 [==============================] - 14s 10ms/step - loss: 68.0810 - mae: 5.7457 - val_loss: 90.3360 - val_mae: 7.2737\n",
            "Epoch 24/50\n",
            "1405/1405 [==============================] - 13s 9ms/step - loss: 53.3615 - mae: 5.1576 - val_loss: 47.2145 - val_mae: 4.8115\n",
            "Epoch 25/50\n",
            "1405/1405 [==============================] - 13s 9ms/step - loss: 56.5414 - mae: 5.2279 - val_loss: 81.3368 - val_mae: 6.4773\n",
            "Epoch 26/50\n",
            "1405/1405 [==============================] - 13s 9ms/step - loss: 50.9312 - mae: 5.0515 - val_loss: 39.4280 - val_mae: 4.3923\n",
            "Epoch 27/50\n",
            "1405/1405 [==============================] - 12s 8ms/step - loss: 45.4607 - mae: 4.8221 - val_loss: 49.4659 - val_mae: 5.3802\n",
            "Epoch 28/50\n",
            "1405/1405 [==============================] - 12s 9ms/step - loss: 45.2430 - mae: 4.8090 - val_loss: 33.1820 - val_mae: 4.0740\n",
            "Epoch 29/50\n",
            "1405/1405 [==============================] - 13s 9ms/step - loss: 33.8545 - mae: 4.1744 - val_loss: 32.0366 - val_mae: 3.9763\n",
            "Epoch 30/50\n",
            "1405/1405 [==============================] - 12s 9ms/step - loss: 43.7866 - mae: 4.7551 - val_loss: 36.6648 - val_mae: 4.4147\n",
            "Epoch 31/50\n",
            "1405/1405 [==============================] - 13s 9ms/step - loss: 36.5432 - mae: 4.2951 - val_loss: 36.9725 - val_mae: 4.4521\n",
            "Epoch 32/50\n",
            "1405/1405 [==============================] - 11s 8ms/step - loss: 34.5084 - mae: 4.2111 - val_loss: 42.6181 - val_mae: 4.8104\n",
            "Epoch 33/50\n",
            "1405/1405 [==============================] - 12s 9ms/step - loss: 39.5011 - mae: 4.4742 - val_loss: 36.9678 - val_mae: 4.7768\n",
            "Epoch 34/50\n",
            "1405/1405 [==============================] - 13s 9ms/step - loss: 30.4742 - mae: 3.9920 - val_loss: 31.2008 - val_mae: 4.1519\n",
            "Epoch 35/50\n",
            "1405/1405 [==============================] - 14s 10ms/step - loss: 30.0299 - mae: 3.9587 - val_loss: 27.0366 - val_mae: 3.7347\n",
            "Epoch 36/50\n",
            "1405/1405 [==============================] - 13s 9ms/step - loss: 30.5885 - mae: 3.9997 - val_loss: 34.4860 - val_mae: 3.9919\n",
            "Epoch 37/50\n",
            "1405/1405 [==============================] - 13s 9ms/step - loss: 30.2999 - mae: 3.9472 - val_loss: 28.5371 - val_mae: 3.8633\n",
            "Epoch 38/50\n",
            "1405/1405 [==============================] - 11s 8ms/step - loss: 29.4518 - mae: 3.9048 - val_loss: 43.8230 - val_mae: 5.0134\n",
            "Epoch 39/50\n",
            "1405/1405 [==============================] - 12s 8ms/step - loss: 34.2688 - mae: 4.1764 - val_loss: 24.8328 - val_mae: 3.7717\n",
            "Epoch 40/50\n",
            "1405/1405 [==============================] - 12s 9ms/step - loss: 26.7809 - mae: 3.7470 - val_loss: 25.3267 - val_mae: 3.6359\n",
            "Epoch 41/50\n",
            "1405/1405 [==============================] - 15s 11ms/step - loss: 25.5131 - mae: 3.7012 - val_loss: 32.5741 - val_mae: 4.1932\n",
            "Epoch 42/50\n",
            "1405/1405 [==============================] - 12s 8ms/step - loss: 26.9568 - mae: 3.8082 - val_loss: 20.9138 - val_mae: 3.3628\n",
            "Epoch 43/50\n",
            "1405/1405 [==============================] - 11s 8ms/step - loss: 25.5515 - mae: 3.6941 - val_loss: 18.1587 - val_mae: 3.0975\n",
            "Epoch 44/50\n",
            "1405/1405 [==============================] - 12s 9ms/step - loss: 22.9287 - mae: 3.5123 - val_loss: 38.2816 - val_mae: 4.6225\n",
            "Epoch 45/50\n",
            "1405/1405 [==============================] - 13s 9ms/step - loss: 24.2057 - mae: 3.5807 - val_loss: 17.5463 - val_mae: 3.0163\n",
            "Epoch 46/50\n",
            "1405/1405 [==============================] - 12s 9ms/step - loss: 22.1799 - mae: 3.4827 - val_loss: 18.9192 - val_mae: 3.0643\n",
            "Epoch 47/50\n",
            "1405/1405 [==============================] - 12s 8ms/step - loss: 21.5706 - mae: 3.4074 - val_loss: 23.8906 - val_mae: 3.7196\n",
            "Epoch 48/50\n",
            "1405/1405 [==============================] - 12s 9ms/step - loss: 21.6606 - mae: 3.4483 - val_loss: 22.3141 - val_mae: 3.4099\n",
            "Epoch 49/50\n",
            "1405/1405 [==============================] - 12s 8ms/step - loss: 21.8688 - mae: 3.4695 - val_loss: 18.2821 - val_mae: 3.1308\n",
            "Epoch 50/50\n",
            "1399/1405 [============================>.] - ETA: 0s - loss: 23.0498 - mae: 3.5242Restoring model weights from the end of the best epoch: 45.\n",
            "1405/1405 [==============================] - 11s 8ms/step - loss: 23.0609 - mae: 3.5252 - val_loss: 30.9964 - val_mae: 4.2469\n",
            "Epoch 50: early stopping\n"
          ]
        },
        {
          "output_type": "execute_result",
          "data": {
            "text/plain": [
              "<keras.src.callbacks.History at 0x7a729d72dd50>"
            ]
          },
          "metadata": {},
          "execution_count": 14
        }
      ]
    },
    {
      "cell_type": "code",
      "source": [
        "# Create a wrapper class for Keras model\n",
        "class KerasRegressorWrapper(BaseEstimator, RegressorMixin):\n",
        "    def __init__(self, create_model, params):\n",
        "        self.create_model = create_model\n",
        "        self.params = params\n",
        "        self.model = None\n",
        "\n",
        "    def fit(self, X, y):\n",
        "        self.model = self.create_model(**self.params)\n",
        "        self.model.fit(X, y, epochs=50, batch_size=32, verbose=0)\n",
        "        return self\n",
        "\n",
        "    def predict(self, X):\n",
        "        return self.model.predict(X)\n",
        "\n",
        "    def score(self, X, y):\n",
        "        y_pred = self.predict(X)\n",
        "        return r2_score(y, y_pred)"
      ],
      "metadata": {
        "id": "ZmNymyMLAfMI"
      },
      "execution_count": null,
      "outputs": []
    },
    {
      "cell_type": "markdown",
      "source": [
        "below code needs to be defind above"
      ],
      "metadata": {
        "id": "9yDUXeYnDZNO"
      }
    },
    {
      "cell_type": "code",
      "source": [
        "# Define the create_model function for the bayesian optimization model\n",
        "def create_model(filters, kernel_size, pool_size, lstm_units, dense_units, dropout_rate, learning_rate):\n",
        "    inputs = Input(shape=(X_train.shape[1], 1))\n",
        "    conv = Conv1D(filters=filters, kernel_size=kernel_size, activation='relu')(inputs)\n",
        "    pool = MaxPooling1D(pool_size=pool_size)(conv)\n",
        "    lstm = LSTM(lstm_units, return_sequences=True)(pool)\n",
        "    attention = Dense(1, activation='tanh')(lstm)\n",
        "    attention = Flatten()(attention)\n",
        "    attention = Activation('softmax')(attention)\n",
        "    attention = RepeatVector(lstm_units)(attention)\n",
        "    attention = Permute([2, 1])(attention)\n",
        "    sent_representation = Multiply()([lstm, attention])\n",
        "    sent_representation = Lambda(lambda xin: K.sum(xin, axis=-2), output_shape=(lstm_units,))(sent_representation)\n",
        "    dense = Dense(dense_units, activation='relu')(sent_representation)\n",
        "    dense = Dropout(dropout_rate)(dense)\n",
        "    outputs = Dense(1)(dense)\n",
        "    model = Model(inputs=inputs, outputs=outputs)\n",
        "    model.compile(optimizer=Adam(learning_rate=learning_rate), loss='mse', metrics=['mae'])\n",
        "    return model\n"
      ],
      "metadata": {
        "id": "EoExERLOAldQ"
      },
      "execution_count": null,
      "outputs": []
    },
    {
      "cell_type": "code",
      "source": [
        "# Define the hyperparameter search space\n",
        "param_space = {\n",
        "    'filters': (16, 32, 64),\n",
        "    'kernel_size': (3, 5),\n",
        "    'pool_size': (2, 4),\n",
        "    'lstm_units': (64, 128, 256),\n",
        "    'dense_units': [32, 64, 128],\n",
        "    'dropout_rate': (0.0, 0.5),\n",
        "    'learning_rate': (0.001, 0.01, 0.1)\n",
        "}\n",
        "\n"
      ],
      "metadata": {
        "id": "vFFOInR8Ao-V"
      },
      "execution_count": null,
      "outputs": []
    },
    {
      "cell_type": "code",
      "source": [
        "# Perform Bayesian optimization for the second model\n",
        "bayes_search = BayesSearchCV(estimator=KerasRegressorWrapper(create_model, params={}), search_spaces=param_space, n_iter=20, cv=3, random_state=42)\n",
        "bayes_search.fit(X_train, y_train)\n"
      ],
      "metadata": {
        "colab": {
          "base_uri": "https://localhost:8080/",
          "height": 408
        },
        "id": "YyCzyV95AsuM",
        "outputId": "f300832f-ceeb-46d2-a387-4fe29cc3f7a0"
      },
      "execution_count": null,
      "outputs": [
        {
          "output_type": "error",
          "ename": "ValueError",
          "evalue": "Invalid parameter 'dense_units' for estimator KerasRegressorWrapper(create_model=<function create_model at 0x7a729c603d00>,\n                      params={}). Valid parameters are: ['create_model', 'params'].",
          "traceback": [
            "\u001b[0;31m---------------------------------------------------------------------------\u001b[0m",
            "\u001b[0;31mValueError\u001b[0m                                Traceback (most recent call last)",
            "\u001b[0;32m<ipython-input-25-d9a2b81ee604>\u001b[0m in \u001b[0;36m<cell line: 3>\u001b[0;34m()\u001b[0m\n\u001b[1;32m      1\u001b[0m \u001b[0;31m# Perform Bayesian optimization for the second model\u001b[0m\u001b[0;34m\u001b[0m\u001b[0;34m\u001b[0m\u001b[0m\n\u001b[1;32m      2\u001b[0m \u001b[0mbayes_search\u001b[0m \u001b[0;34m=\u001b[0m \u001b[0mBayesSearchCV\u001b[0m\u001b[0;34m(\u001b[0m\u001b[0mestimator\u001b[0m\u001b[0;34m=\u001b[0m\u001b[0mKerasRegressorWrapper\u001b[0m\u001b[0;34m(\u001b[0m\u001b[0mcreate_model\u001b[0m\u001b[0;34m,\u001b[0m \u001b[0mparams\u001b[0m\u001b[0;34m=\u001b[0m\u001b[0;34m{\u001b[0m\u001b[0;34m}\u001b[0m\u001b[0;34m)\u001b[0m\u001b[0;34m,\u001b[0m \u001b[0msearch_spaces\u001b[0m\u001b[0;34m=\u001b[0m\u001b[0mparam_space\u001b[0m\u001b[0;34m,\u001b[0m \u001b[0mn_iter\u001b[0m\u001b[0;34m=\u001b[0m\u001b[0;36m20\u001b[0m\u001b[0;34m,\u001b[0m \u001b[0mcv\u001b[0m\u001b[0;34m=\u001b[0m\u001b[0;36m3\u001b[0m\u001b[0;34m,\u001b[0m \u001b[0mrandom_state\u001b[0m\u001b[0;34m=\u001b[0m\u001b[0;36m42\u001b[0m\u001b[0;34m)\u001b[0m\u001b[0;34m\u001b[0m\u001b[0;34m\u001b[0m\u001b[0m\n\u001b[0;32m----> 3\u001b[0;31m \u001b[0mbayes_search\u001b[0m\u001b[0;34m.\u001b[0m\u001b[0mfit\u001b[0m\u001b[0;34m(\u001b[0m\u001b[0mX_train\u001b[0m\u001b[0;34m,\u001b[0m \u001b[0my_train\u001b[0m\u001b[0;34m)\u001b[0m\u001b[0;34m\u001b[0m\u001b[0;34m\u001b[0m\u001b[0m\n\u001b[0m",
            "\u001b[0;32m/usr/local/lib/python3.10/dist-packages/skopt/searchcv.py\u001b[0m in \u001b[0;36mfit\u001b[0;34m(self, X, y, groups, callback, **fit_params)\u001b[0m\n\u001b[1;32m    536\u001b[0m             )\n\u001b[1;32m    537\u001b[0m \u001b[0;34m\u001b[0m\u001b[0m\n\u001b[0;32m--> 538\u001b[0;31m         \u001b[0msuper\u001b[0m\u001b[0;34m(\u001b[0m\u001b[0;34m)\u001b[0m\u001b[0;34m.\u001b[0m\u001b[0mfit\u001b[0m\u001b[0;34m(\u001b[0m\u001b[0mX\u001b[0m\u001b[0;34m=\u001b[0m\u001b[0mX\u001b[0m\u001b[0;34m,\u001b[0m \u001b[0my\u001b[0m\u001b[0;34m=\u001b[0m\u001b[0my\u001b[0m\u001b[0;34m,\u001b[0m \u001b[0mgroups\u001b[0m\u001b[0;34m=\u001b[0m\u001b[0mgroups\u001b[0m\u001b[0;34m,\u001b[0m \u001b[0;34m**\u001b[0m\u001b[0mfit_params\u001b[0m\u001b[0;34m)\u001b[0m\u001b[0;34m\u001b[0m\u001b[0;34m\u001b[0m\u001b[0m\n\u001b[0m\u001b[1;32m    539\u001b[0m \u001b[0;34m\u001b[0m\u001b[0m\n\u001b[1;32m    540\u001b[0m         \u001b[0;31m# BaseSearchCV never ranked train scores,\u001b[0m\u001b[0;34m\u001b[0m\u001b[0;34m\u001b[0m\u001b[0m\n",
            "\u001b[0;32m/usr/local/lib/python3.10/dist-packages/sklearn/model_selection/_search.py\u001b[0m in \u001b[0;36mfit\u001b[0;34m(self, X, y, groups, **fit_params)\u001b[0m\n\u001b[1;32m    872\u001b[0m                 \u001b[0;32mreturn\u001b[0m \u001b[0mresults\u001b[0m\u001b[0;34m\u001b[0m\u001b[0;34m\u001b[0m\u001b[0m\n\u001b[1;32m    873\u001b[0m \u001b[0;34m\u001b[0m\u001b[0m\n\u001b[0;32m--> 874\u001b[0;31m             \u001b[0mself\u001b[0m\u001b[0;34m.\u001b[0m\u001b[0m_run_search\u001b[0m\u001b[0;34m(\u001b[0m\u001b[0mevaluate_candidates\u001b[0m\u001b[0;34m)\u001b[0m\u001b[0;34m\u001b[0m\u001b[0;34m\u001b[0m\u001b[0m\n\u001b[0m\u001b[1;32m    875\u001b[0m \u001b[0;34m\u001b[0m\u001b[0m\n\u001b[1;32m    876\u001b[0m             \u001b[0;31m# multimetric is determined here because in the case of a callable\u001b[0m\u001b[0;34m\u001b[0m\u001b[0;34m\u001b[0m\u001b[0m\n",
            "\u001b[0;32m/usr/local/lib/python3.10/dist-packages/skopt/searchcv.py\u001b[0m in \u001b[0;36m_run_search\u001b[0;34m(self, evaluate_candidates)\u001b[0m\n\u001b[1;32m    593\u001b[0m                 \u001b[0mn_points_adjusted\u001b[0m \u001b[0;34m=\u001b[0m \u001b[0mmin\u001b[0m\u001b[0;34m(\u001b[0m\u001b[0mn_iter\u001b[0m\u001b[0;34m,\u001b[0m \u001b[0mn_points\u001b[0m\u001b[0;34m)\u001b[0m\u001b[0;34m\u001b[0m\u001b[0;34m\u001b[0m\u001b[0m\n\u001b[1;32m    594\u001b[0m \u001b[0;34m\u001b[0m\u001b[0m\n\u001b[0;32m--> 595\u001b[0;31m                 optim_result, score_name = self._step(\n\u001b[0m\u001b[1;32m    596\u001b[0m                     \u001b[0msearch_space\u001b[0m\u001b[0;34m,\u001b[0m\u001b[0;34m\u001b[0m\u001b[0;34m\u001b[0m\u001b[0m\n\u001b[1;32m    597\u001b[0m                     \u001b[0moptimizer\u001b[0m\u001b[0;34m,\u001b[0m\u001b[0;34m\u001b[0m\u001b[0;34m\u001b[0m\u001b[0m\n",
            "\u001b[0;32m/usr/local/lib/python3.10/dist-packages/skopt/searchcv.py\u001b[0m in \u001b[0;36m_step\u001b[0;34m(self, search_space, optimizer, score_name, evaluate_candidates, n_points)\u001b[0m\n\u001b[1;32m    447\u001b[0m         \u001b[0mparams_dict\u001b[0m \u001b[0;34m=\u001b[0m \u001b[0;34m[\u001b[0m\u001b[0mpoint_asdict\u001b[0m\u001b[0;34m(\u001b[0m\u001b[0msearch_space\u001b[0m\u001b[0;34m,\u001b[0m \u001b[0mp\u001b[0m\u001b[0;34m)\u001b[0m \u001b[0;32mfor\u001b[0m \u001b[0mp\u001b[0m \u001b[0;32min\u001b[0m \u001b[0mparams\u001b[0m\u001b[0;34m]\u001b[0m\u001b[0;34m\u001b[0m\u001b[0;34m\u001b[0m\u001b[0m\n\u001b[1;32m    448\u001b[0m \u001b[0;34m\u001b[0m\u001b[0m\n\u001b[0;32m--> 449\u001b[0;31m         \u001b[0mall_results\u001b[0m \u001b[0;34m=\u001b[0m \u001b[0mevaluate_candidates\u001b[0m\u001b[0;34m(\u001b[0m\u001b[0mparams_dict\u001b[0m\u001b[0;34m)\u001b[0m\u001b[0;34m\u001b[0m\u001b[0;34m\u001b[0m\u001b[0m\n\u001b[0m\u001b[1;32m    450\u001b[0m \u001b[0;34m\u001b[0m\u001b[0m\n\u001b[1;32m    451\u001b[0m         \u001b[0;31m# if self.scoring is a callable, we have to wait until here\u001b[0m\u001b[0;34m\u001b[0m\u001b[0;34m\u001b[0m\u001b[0m\n",
            "\u001b[0;32m/usr/local/lib/python3.10/dist-packages/sklearn/model_selection/_search.py\u001b[0m in \u001b[0;36mevaluate_candidates\u001b[0;34m(candidate_params, cv, more_results)\u001b[0m\n\u001b[1;32m    819\u001b[0m                     )\n\u001b[1;32m    820\u001b[0m \u001b[0;34m\u001b[0m\u001b[0m\n\u001b[0;32m--> 821\u001b[0;31m                 out = parallel(\n\u001b[0m\u001b[1;32m    822\u001b[0m                     delayed(_fit_and_score)(\n\u001b[1;32m    823\u001b[0m                         \u001b[0mclone\u001b[0m\u001b[0;34m(\u001b[0m\u001b[0mbase_estimator\u001b[0m\u001b[0;34m)\u001b[0m\u001b[0;34m,\u001b[0m\u001b[0;34m\u001b[0m\u001b[0;34m\u001b[0m\u001b[0m\n",
            "\u001b[0;32m/usr/local/lib/python3.10/dist-packages/sklearn/utils/parallel.py\u001b[0m in \u001b[0;36m__call__\u001b[0;34m(self, iterable)\u001b[0m\n\u001b[1;32m     61\u001b[0m             \u001b[0;32mfor\u001b[0m \u001b[0mdelayed_func\u001b[0m\u001b[0;34m,\u001b[0m \u001b[0margs\u001b[0m\u001b[0;34m,\u001b[0m \u001b[0mkwargs\u001b[0m \u001b[0;32min\u001b[0m \u001b[0miterable\u001b[0m\u001b[0;34m\u001b[0m\u001b[0;34m\u001b[0m\u001b[0m\n\u001b[1;32m     62\u001b[0m         )\n\u001b[0;32m---> 63\u001b[0;31m         \u001b[0;32mreturn\u001b[0m \u001b[0msuper\u001b[0m\u001b[0;34m(\u001b[0m\u001b[0;34m)\u001b[0m\u001b[0;34m.\u001b[0m\u001b[0m__call__\u001b[0m\u001b[0;34m(\u001b[0m\u001b[0miterable_with_config\u001b[0m\u001b[0;34m)\u001b[0m\u001b[0;34m\u001b[0m\u001b[0;34m\u001b[0m\u001b[0m\n\u001b[0m\u001b[1;32m     64\u001b[0m \u001b[0;34m\u001b[0m\u001b[0m\n\u001b[1;32m     65\u001b[0m \u001b[0;34m\u001b[0m\u001b[0m\n",
            "\u001b[0;32m/usr/local/lib/python3.10/dist-packages/joblib/parallel.py\u001b[0m in \u001b[0;36m__call__\u001b[0;34m(self, iterable)\u001b[0m\n\u001b[1;32m   1861\u001b[0m             \u001b[0moutput\u001b[0m \u001b[0;34m=\u001b[0m \u001b[0mself\u001b[0m\u001b[0;34m.\u001b[0m\u001b[0m_get_sequential_output\u001b[0m\u001b[0;34m(\u001b[0m\u001b[0miterable\u001b[0m\u001b[0;34m)\u001b[0m\u001b[0;34m\u001b[0m\u001b[0;34m\u001b[0m\u001b[0m\n\u001b[1;32m   1862\u001b[0m             \u001b[0mnext\u001b[0m\u001b[0;34m(\u001b[0m\u001b[0moutput\u001b[0m\u001b[0;34m)\u001b[0m\u001b[0;34m\u001b[0m\u001b[0;34m\u001b[0m\u001b[0m\n\u001b[0;32m-> 1863\u001b[0;31m             \u001b[0;32mreturn\u001b[0m \u001b[0moutput\u001b[0m \u001b[0;32mif\u001b[0m \u001b[0mself\u001b[0m\u001b[0;34m.\u001b[0m\u001b[0mreturn_generator\u001b[0m \u001b[0;32melse\u001b[0m \u001b[0mlist\u001b[0m\u001b[0;34m(\u001b[0m\u001b[0moutput\u001b[0m\u001b[0;34m)\u001b[0m\u001b[0;34m\u001b[0m\u001b[0;34m\u001b[0m\u001b[0m\n\u001b[0m\u001b[1;32m   1864\u001b[0m \u001b[0;34m\u001b[0m\u001b[0m\n\u001b[1;32m   1865\u001b[0m         \u001b[0;31m# Let's create an ID that uniquely identifies the current call. If the\u001b[0m\u001b[0;34m\u001b[0m\u001b[0;34m\u001b[0m\u001b[0m\n",
            "\u001b[0;32m/usr/local/lib/python3.10/dist-packages/joblib/parallel.py\u001b[0m in \u001b[0;36m_get_sequential_output\u001b[0;34m(self, iterable)\u001b[0m\n\u001b[1;32m   1790\u001b[0m                 \u001b[0mself\u001b[0m\u001b[0;34m.\u001b[0m\u001b[0mn_dispatched_batches\u001b[0m \u001b[0;34m+=\u001b[0m \u001b[0;36m1\u001b[0m\u001b[0;34m\u001b[0m\u001b[0;34m\u001b[0m\u001b[0m\n\u001b[1;32m   1791\u001b[0m                 \u001b[0mself\u001b[0m\u001b[0;34m.\u001b[0m\u001b[0mn_dispatched_tasks\u001b[0m \u001b[0;34m+=\u001b[0m \u001b[0;36m1\u001b[0m\u001b[0;34m\u001b[0m\u001b[0;34m\u001b[0m\u001b[0m\n\u001b[0;32m-> 1792\u001b[0;31m                 \u001b[0mres\u001b[0m \u001b[0;34m=\u001b[0m \u001b[0mfunc\u001b[0m\u001b[0;34m(\u001b[0m\u001b[0;34m*\u001b[0m\u001b[0margs\u001b[0m\u001b[0;34m,\u001b[0m \u001b[0;34m**\u001b[0m\u001b[0mkwargs\u001b[0m\u001b[0;34m)\u001b[0m\u001b[0;34m\u001b[0m\u001b[0;34m\u001b[0m\u001b[0m\n\u001b[0m\u001b[1;32m   1793\u001b[0m                 \u001b[0mself\u001b[0m\u001b[0;34m.\u001b[0m\u001b[0mn_completed_tasks\u001b[0m \u001b[0;34m+=\u001b[0m \u001b[0;36m1\u001b[0m\u001b[0;34m\u001b[0m\u001b[0;34m\u001b[0m\u001b[0m\n\u001b[1;32m   1794\u001b[0m                 \u001b[0mself\u001b[0m\u001b[0;34m.\u001b[0m\u001b[0mprint_progress\u001b[0m\u001b[0;34m(\u001b[0m\u001b[0;34m)\u001b[0m\u001b[0;34m\u001b[0m\u001b[0;34m\u001b[0m\u001b[0m\n",
            "\u001b[0;32m/usr/local/lib/python3.10/dist-packages/sklearn/utils/parallel.py\u001b[0m in \u001b[0;36m__call__\u001b[0;34m(self, *args, **kwargs)\u001b[0m\n\u001b[1;32m    121\u001b[0m             \u001b[0mconfig\u001b[0m \u001b[0;34m=\u001b[0m \u001b[0;34m{\u001b[0m\u001b[0;34m}\u001b[0m\u001b[0;34m\u001b[0m\u001b[0;34m\u001b[0m\u001b[0m\n\u001b[1;32m    122\u001b[0m         \u001b[0;32mwith\u001b[0m \u001b[0mconfig_context\u001b[0m\u001b[0;34m(\u001b[0m\u001b[0;34m**\u001b[0m\u001b[0mconfig\u001b[0m\u001b[0;34m)\u001b[0m\u001b[0;34m:\u001b[0m\u001b[0;34m\u001b[0m\u001b[0;34m\u001b[0m\u001b[0m\n\u001b[0;32m--> 123\u001b[0;31m             \u001b[0;32mreturn\u001b[0m \u001b[0mself\u001b[0m\u001b[0;34m.\u001b[0m\u001b[0mfunction\u001b[0m\u001b[0;34m(\u001b[0m\u001b[0;34m*\u001b[0m\u001b[0margs\u001b[0m\u001b[0;34m,\u001b[0m \u001b[0;34m**\u001b[0m\u001b[0mkwargs\u001b[0m\u001b[0;34m)\u001b[0m\u001b[0;34m\u001b[0m\u001b[0;34m\u001b[0m\u001b[0m\n\u001b[0m",
            "\u001b[0;32m/usr/local/lib/python3.10/dist-packages/sklearn/model_selection/_validation.py\u001b[0m in \u001b[0;36m_fit_and_score\u001b[0;34m(estimator, X, y, scorer, train, test, verbose, parameters, fit_params, return_train_score, return_parameters, return_n_test_samples, return_times, return_estimator, split_progress, candidate_progress, error_score)\u001b[0m\n\u001b[1;32m    672\u001b[0m             \u001b[0mcloned_parameters\u001b[0m\u001b[0;34m[\u001b[0m\u001b[0mk\u001b[0m\u001b[0;34m]\u001b[0m \u001b[0;34m=\u001b[0m \u001b[0mclone\u001b[0m\u001b[0;34m(\u001b[0m\u001b[0mv\u001b[0m\u001b[0;34m,\u001b[0m \u001b[0msafe\u001b[0m\u001b[0;34m=\u001b[0m\u001b[0;32mFalse\u001b[0m\u001b[0;34m)\u001b[0m\u001b[0;34m\u001b[0m\u001b[0;34m\u001b[0m\u001b[0m\n\u001b[1;32m    673\u001b[0m \u001b[0;34m\u001b[0m\u001b[0m\n\u001b[0;32m--> 674\u001b[0;31m         \u001b[0mestimator\u001b[0m \u001b[0;34m=\u001b[0m \u001b[0mestimator\u001b[0m\u001b[0;34m.\u001b[0m\u001b[0mset_params\u001b[0m\u001b[0;34m(\u001b[0m\u001b[0;34m**\u001b[0m\u001b[0mcloned_parameters\u001b[0m\u001b[0;34m)\u001b[0m\u001b[0;34m\u001b[0m\u001b[0;34m\u001b[0m\u001b[0m\n\u001b[0m\u001b[1;32m    675\u001b[0m \u001b[0;34m\u001b[0m\u001b[0m\n\u001b[1;32m    676\u001b[0m     \u001b[0mstart_time\u001b[0m \u001b[0;34m=\u001b[0m \u001b[0mtime\u001b[0m\u001b[0;34m.\u001b[0m\u001b[0mtime\u001b[0m\u001b[0;34m(\u001b[0m\u001b[0;34m)\u001b[0m\u001b[0;34m\u001b[0m\u001b[0;34m\u001b[0m\u001b[0m\n",
            "\u001b[0;32m/usr/local/lib/python3.10/dist-packages/sklearn/base.py\u001b[0m in \u001b[0;36mset_params\u001b[0;34m(self, **params)\u001b[0m\n\u001b[1;32m    203\u001b[0m             \u001b[0;32mif\u001b[0m \u001b[0mkey\u001b[0m \u001b[0;32mnot\u001b[0m \u001b[0;32min\u001b[0m \u001b[0mvalid_params\u001b[0m\u001b[0;34m:\u001b[0m\u001b[0;34m\u001b[0m\u001b[0;34m\u001b[0m\u001b[0m\n\u001b[1;32m    204\u001b[0m                 \u001b[0mlocal_valid_params\u001b[0m \u001b[0;34m=\u001b[0m \u001b[0mself\u001b[0m\u001b[0;34m.\u001b[0m\u001b[0m_get_param_names\u001b[0m\u001b[0;34m(\u001b[0m\u001b[0;34m)\u001b[0m\u001b[0;34m\u001b[0m\u001b[0;34m\u001b[0m\u001b[0m\n\u001b[0;32m--> 205\u001b[0;31m                 raise ValueError(\n\u001b[0m\u001b[1;32m    206\u001b[0m                     \u001b[0;34mf\"Invalid parameter {key!r} for estimator {self}. \"\u001b[0m\u001b[0;34m\u001b[0m\u001b[0;34m\u001b[0m\u001b[0m\n\u001b[1;32m    207\u001b[0m                     \u001b[0;34mf\"Valid parameters are: {local_valid_params!r}.\"\u001b[0m\u001b[0;34m\u001b[0m\u001b[0;34m\u001b[0m\u001b[0m\n",
            "\u001b[0;31mValueError\u001b[0m: Invalid parameter 'dense_units' for estimator KerasRegressorWrapper(create_model=<function create_model at 0x7a729c603d00>,\n                      params={}). Valid parameters are: ['create_model', 'params']."
          ]
        }
      ]
    },
    {
      "cell_type": "code",
      "source": [
        "# Evaluate the best model on test set for the second model\n",
        "best_model = bayes_search.best_estimator_\n",
        "y_pred_test = best_model.predict(X_test)\n",
        "r2_test = best_model.score(X_test, y_test)\n",
        "rmse_test = mean_squared_error(y_test, y_pred_test, squared=False)\n",
        "mae_test = mean_absolute_error(y_test, y_pred_test)\n",
        "mse_test = mean_squared_error(y_test, y_pred_test)\n",
        "\n",
        "\n",
        "# Evaluate the best model on validation set for the second model\n",
        "r2_val = best_model.score(X_val.values.reshape((X_val.shape[0], X_val.shape[1], 1)), y_val)\n",
        "rmse_val = mean_squared_error(y_val, best_model.predict(X_val.values.reshape((X_val.shape[0], X_val.shape[1], 1))), squared=False)\n",
        "mae_val = mean_absolute_error(y_val, best_model.predict(X_val.values.reshape((X_val.shape[0], X_val.shape[1], 1))))\n",
        "mse_val = mean_squared_error(y_val, best_model.predict(X_val.values.reshape((X_val.shape[0], X_val.shape[1], 1))))\n",
        "\n",
        "\n",
        "print('Test set:')\n",
        "print('R2 Score:', r2_test)\n",
        "print('Root Mean Squared Error (RMSE):', rmse_test)\n",
        "print('Mean Absolute Error (MAE):', mae_test)\n",
        "print('Mean Squared Error (MSE):', mse_test)\n",
        "\n",
        "print('\\nValidation set:')\n",
        "print('R2 Score:', r2_val)\n",
        "print('Root Mean Squared Error (RMSE):', rmse_val)\n",
        "print('Mean Absolute Error (MAE):', mae_val)\n",
        "print('Mean Squared Error (MSE):', mse_val)\n"
      ],
      "metadata": {
        "colab": {
          "base_uri": "https://localhost:8080/",
          "height": 211
        },
        "id": "u7-sFaJLC61n",
        "outputId": "e845bfb1-734d-4cc4-eba6-45978160c596"
      },
      "execution_count": null,
      "outputs": [
        {
          "output_type": "error",
          "ename": "AttributeError",
          "evalue": "'BayesSearchCV' object has no attribute 'best_estimator_'",
          "traceback": [
            "\u001b[0;31m---------------------------------------------------------------------------\u001b[0m",
            "\u001b[0;31mAttributeError\u001b[0m                            Traceback (most recent call last)",
            "\u001b[0;32m<ipython-input-26-e21f72f2c55d>\u001b[0m in \u001b[0;36m<cell line: 2>\u001b[0;34m()\u001b[0m\n\u001b[1;32m      1\u001b[0m \u001b[0;31m# Evaluate the best model on test set for the second model\u001b[0m\u001b[0;34m\u001b[0m\u001b[0;34m\u001b[0m\u001b[0m\n\u001b[0;32m----> 2\u001b[0;31m \u001b[0mbest_model\u001b[0m \u001b[0;34m=\u001b[0m \u001b[0mbayes_search\u001b[0m\u001b[0;34m.\u001b[0m\u001b[0mbest_estimator_\u001b[0m\u001b[0;34m\u001b[0m\u001b[0;34m\u001b[0m\u001b[0m\n\u001b[0m\u001b[1;32m      3\u001b[0m \u001b[0my_pred_test\u001b[0m \u001b[0;34m=\u001b[0m \u001b[0mbest_model\u001b[0m\u001b[0;34m.\u001b[0m\u001b[0mpredict\u001b[0m\u001b[0;34m(\u001b[0m\u001b[0mX_test\u001b[0m\u001b[0;34m)\u001b[0m\u001b[0;34m\u001b[0m\u001b[0;34m\u001b[0m\u001b[0m\n\u001b[1;32m      4\u001b[0m \u001b[0mr2_test\u001b[0m \u001b[0;34m=\u001b[0m \u001b[0mbest_model\u001b[0m\u001b[0;34m.\u001b[0m\u001b[0mscore\u001b[0m\u001b[0;34m(\u001b[0m\u001b[0mX_test\u001b[0m\u001b[0;34m,\u001b[0m \u001b[0my_test\u001b[0m\u001b[0;34m)\u001b[0m\u001b[0;34m\u001b[0m\u001b[0;34m\u001b[0m\u001b[0m\n\u001b[1;32m      5\u001b[0m \u001b[0mrmse_test\u001b[0m \u001b[0;34m=\u001b[0m \u001b[0mmean_squared_error\u001b[0m\u001b[0;34m(\u001b[0m\u001b[0my_test\u001b[0m\u001b[0;34m,\u001b[0m \u001b[0my_pred_test\u001b[0m\u001b[0;34m,\u001b[0m \u001b[0msquared\u001b[0m\u001b[0;34m=\u001b[0m\u001b[0;32mFalse\u001b[0m\u001b[0;34m)\u001b[0m\u001b[0;34m\u001b[0m\u001b[0;34m\u001b[0m\u001b[0m\n",
            "\u001b[0;31mAttributeError\u001b[0m: 'BayesSearchCV' object has no attribute 'best_estimator_'"
          ]
        }
      ]
    },
    {
      "cell_type": "code",
      "source": [
        "\n",
        "# Plotting the actual vs. predicted values for the test set\n",
        "y_pred_test = best_model.predict(X_test.values.reshape((X_test.shape[0], X_test.shape[1], 1)))\n",
        "\n",
        "plt.figure(figsize=(10, 6))\n",
        "plt.scatter(y_test, y_pred_test, color='blue')\n",
        "plt.plot([min(y_test), max(y_test)], [min(y_test), max(y_test)], '--', color='red')\n",
        "plt.xlabel('Actual Values')\n",
        "plt.ylabel('Predicted Values')\n",
        "plt.title('Actual vs. Predicted Values (Test Set)')\n",
        "plt.grid(True)\n",
        "plt.show()\n",
        "\n",
        "# Plotting the actual vs. predicted values for the validation set\n",
        "y_pred_val = best_model.predict(X_val.values.reshape((X_val.shape[0], X_val.shape[1], 1)))\n",
        "\n",
        "plt.figure(figsize=(10, 6))\n",
        "plt.scatter(y_val, y_pred_val, color='blue')\n",
        "plt.plot([min(y_val), max(y_val)], [min(y_val), max(y_val)], '--', color='red')\n",
        "plt.xlabel('Actual Values')\n",
        "plt.ylabel('Predicted Values')\n",
        "plt.title('Actual vs. Predicted Values (Validation Set)')\n",
        "plt.grid(True)\n",
        "plt.show()\n"
      ],
      "metadata": {
        "colab": {
          "base_uri": "https://localhost:8080/",
          "height": 228
        },
        "id": "Lm8WZ4mlDha-",
        "outputId": "c368af79-df44-48a2-caf5-3938fbd3ded7"
      },
      "execution_count": null,
      "outputs": [
        {
          "output_type": "error",
          "ename": "NameError",
          "evalue": "name 'best_model' is not defined",
          "traceback": [
            "\u001b[0;31m---------------------------------------------------------------------------\u001b[0m",
            "\u001b[0;31mNameError\u001b[0m                                 Traceback (most recent call last)",
            "\u001b[0;32m<ipython-input-27-754a01200f45>\u001b[0m in \u001b[0;36m<cell line: 2>\u001b[0;34m()\u001b[0m\n\u001b[1;32m      1\u001b[0m \u001b[0;31m# Plotting the actual vs. predicted values for the test set\u001b[0m\u001b[0;34m\u001b[0m\u001b[0;34m\u001b[0m\u001b[0m\n\u001b[0;32m----> 2\u001b[0;31m \u001b[0my_pred_test\u001b[0m \u001b[0;34m=\u001b[0m \u001b[0mbest_model\u001b[0m\u001b[0;34m.\u001b[0m\u001b[0mpredict\u001b[0m\u001b[0;34m(\u001b[0m\u001b[0mX_test\u001b[0m\u001b[0;34m.\u001b[0m\u001b[0mvalues\u001b[0m\u001b[0;34m.\u001b[0m\u001b[0mreshape\u001b[0m\u001b[0;34m(\u001b[0m\u001b[0;34m(\u001b[0m\u001b[0mX_test\u001b[0m\u001b[0;34m.\u001b[0m\u001b[0mshape\u001b[0m\u001b[0;34m[\u001b[0m\u001b[0;36m0\u001b[0m\u001b[0;34m]\u001b[0m\u001b[0;34m,\u001b[0m \u001b[0mX_test\u001b[0m\u001b[0;34m.\u001b[0m\u001b[0mshape\u001b[0m\u001b[0;34m[\u001b[0m\u001b[0;36m1\u001b[0m\u001b[0;34m]\u001b[0m\u001b[0;34m,\u001b[0m \u001b[0;36m1\u001b[0m\u001b[0;34m)\u001b[0m\u001b[0;34m)\u001b[0m\u001b[0;34m)\u001b[0m\u001b[0;34m\u001b[0m\u001b[0;34m\u001b[0m\u001b[0m\n\u001b[0m\u001b[1;32m      3\u001b[0m \u001b[0;34m\u001b[0m\u001b[0m\n\u001b[1;32m      4\u001b[0m \u001b[0mplt\u001b[0m\u001b[0;34m.\u001b[0m\u001b[0mfigure\u001b[0m\u001b[0;34m(\u001b[0m\u001b[0mfigsize\u001b[0m\u001b[0;34m=\u001b[0m\u001b[0;34m(\u001b[0m\u001b[0;36m10\u001b[0m\u001b[0;34m,\u001b[0m \u001b[0;36m6\u001b[0m\u001b[0;34m)\u001b[0m\u001b[0;34m)\u001b[0m\u001b[0;34m\u001b[0m\u001b[0;34m\u001b[0m\u001b[0m\n\u001b[1;32m      5\u001b[0m \u001b[0mplt\u001b[0m\u001b[0;34m.\u001b[0m\u001b[0mscatter\u001b[0m\u001b[0;34m(\u001b[0m\u001b[0my_test\u001b[0m\u001b[0;34m,\u001b[0m \u001b[0my_pred_test\u001b[0m\u001b[0;34m,\u001b[0m \u001b[0mcolor\u001b[0m\u001b[0;34m=\u001b[0m\u001b[0;34m'blue'\u001b[0m\u001b[0;34m)\u001b[0m\u001b[0;34m\u001b[0m\u001b[0;34m\u001b[0m\u001b[0m\n",
            "\u001b[0;31mNameError\u001b[0m: name 'best_model' is not defined"
          ]
        }
      ]
    }
  ]
}